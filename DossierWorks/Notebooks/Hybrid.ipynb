{
 "cells": [
  {
   "cell_type": "markdown",
   "source": [
    "## Recommandation hybride : Content based et Popularity based\r\n",
    "\r\n",
    "On utilise ici une méthode de recommandation basée sur le contenu, à savoir les tags que les utilisateurs ont associés à chaque livre, ainsi qu'une méthode de recommandation basée sur la popularité de chaque livre.\r\n",
    "\r\n",
    "Au départ un livre est renseigné, par exemple le dernier que l'utilisateur a lu. L'algorithme Content based trouve alors 50 livres qui lui ressemblent (de même genre, qui traîte les mêmes sujets), puis l'agorithme popularity based va faire remonter, parmi ces 50 livres, les 10 plus populaires (un livre est populaire si un grand nombre de personnes lui ont attribué une bonne note)."
   ],
   "metadata": {}
  },
  {
   "cell_type": "code",
   "execution_count": 12,
   "source": [
    "import pandas as pd\r\n",
    "import numpy as np\r\n",
    "\r\n",
    "cos_sim = np.load(\"data/cos_sim.npy\")\r\n",
    "\r\n",
    "index_books = pd.read_csv(\"data/index_books.csv\")\r\n",
    "books = pd.read_csv(\"data/books.csv\")\r\n",
    "popularity_books = pd.read_csv(\"data/popularity_books.csv\")\r\n"
   ],
   "outputs": [],
   "metadata": {}
  },
  {
   "cell_type": "code",
   "execution_count": 75,
   "source": [
    "def get_book_id(title): \r\n",
    "    # Récupère l'ID du livre en fonction de son titre\r\n",
    "    return books[\"goodreads_book_id\"][books[\"title\"]==title].item()\r\n",
    "\r\n",
    "def get_book_title(goodreads_id):\r\n",
    "    # Récupère le titre du livre en fonction de son id\r\n",
    "    return books[\"title\"][books[\"goodreads_book_id\"]==goodreads_id].item()\r\n",
    "\r\n",
    "\r\n",
    "def get_book_weighted_rating(goodreads_id):\r\n",
    "    try:\r\n",
    "        return popularity_books[\"weighted_rating\"][popularity_books[\"goodreads_book_id\"]==goodreads_id].item()\r\n",
    "    except:\r\n",
    "        return 0\r\n",
    "\r\n",
    "\r\n",
    "def recommendations(title, cos_sim = cos_sim):\r\n",
    "    \"\"\"\r\n",
    "    Fonction recommandation :\r\n",
    "    Prend en entrée le title d'un livre et la matrice de similarité.\r\n",
    "    Trouve l'id du livre\r\n",
    "    Cherche dans la matrice les autres livres similaires\r\n",
    "    \"\"\"\r\n",
    "    \r\n",
    "    # Initialise la liste de livres recommandés\r\n",
    "    rec_books_ids = []\r\n",
    "\r\n",
    "    # ID du livre\r\n",
    "    book_id = get_book_id(title)\r\n",
    "    \r\n",
    "    # Index du livre dans la matrice\r\n",
    "    idx = index_books[index_books[\"book\"]==book_id].index[0]\r\n",
    "\r\n",
    "    # Création de la série qui comprend la similiraté de notre livre et tous les autres (correspond à sa colonne de la matrice cos_sim)\r\n",
    "    score_series = pd.Series(cos_sim[idx]).sort_values(ascending = False)\r\n",
    "\r\n",
    "    # On récupère les 10 premiers indices (plus grandes similarités)\r\n",
    "    rec_books_indexes = list(score_series.iloc[1:31].index)\r\n",
    "    \r\n",
    "    rec_books_ids = list(map(lambda x: index_books[\"book\"][x],rec_books_indexes))\r\n",
    "\r\n",
    "    rec_books_wr = list(map(get_book_weighted_rating,rec_books_ids))\r\n",
    "\r\n",
    "\r\n",
    "    rec_books_df = pd.DataFrame(list(zip(rec_books_ids, rec_books_wr)),columns=['id','wr'])\r\n",
    "\r\n",
    "    rec_books_df = rec_books_df.sort_values(\"wr\",ascending=False)\r\n",
    "\r\n",
    "    rec_books = list(map(get_book_title, rec_books_df[\"id\"][0:10]))\r\n",
    "\r\n",
    "    return [rec_books, list(rec_books_df[\"wr\"][0:10])]"
   ],
   "outputs": [],
   "metadata": {}
  },
  {
   "cell_type": "code",
   "execution_count": 76,
   "source": [
    "recommendations(\"Candide\")"
   ],
   "outputs": [
    {
     "output_type": "execute_result",
     "data": {
      "text/plain": [
       "[['Les Misérables',\n",
       "  'The Idiot',\n",
       "  'The Three Musketeers',\n",
       "  'The Fall',\n",
       "  'Song of Solomon',\n",
       "  'Siddhartha',\n",
       "  'The Plague',\n",
       "  'The Hunchback of Notre-Dame',\n",
       "  'Native Son',\n",
       "  'The Stranger'],\n",
       " [4.129796312304483,\n",
       "  4.116906087259228,\n",
       "  4.0499577417714825,\n",
       "  4.026723569847905,\n",
       "  4.006819875294491,\n",
       "  3.9912113764735775,\n",
       "  3.979656488500729,\n",
       "  3.978213276934455,\n",
       "  3.976150383165109,\n",
       "  3.963751922640032]]"
      ]
     },
     "metadata": {},
     "execution_count": 76
    }
   ],
   "metadata": {}
  }
 ],
 "metadata": {
  "orig_nbformat": 4,
  "language_info": {
   "name": "python",
   "version": "3.9.7",
   "mimetype": "text/x-python",
   "codemirror_mode": {
    "name": "ipython",
    "version": 3
   },
   "pygments_lexer": "ipython3",
   "nbconvert_exporter": "python",
   "file_extension": ".py"
  },
  "kernelspec": {
   "name": "python3",
   "display_name": "Python 3.9.7 64-bit ('venv': venv)"
  },
  "interpreter": {
   "hash": "98923f8a3a6b3c2adb53ebdcc45c639471097e77bc1aad95bdad0a6759d292a2"
  }
 },
 "nbformat": 4,
 "nbformat_minor": 2
}