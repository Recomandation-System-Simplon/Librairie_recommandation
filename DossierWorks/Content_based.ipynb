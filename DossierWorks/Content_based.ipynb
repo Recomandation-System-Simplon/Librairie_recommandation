{
 "cells": [
  {
   "cell_type": "code",
   "execution_count": 6,
   "source": [
    "import pandas as pd \r\n",
    "import numpy as np\r\n",
    "\r\n",
    "books = pd.read_csv(\"data/books.csv\")\r\n",
    "tags = pd.read_csv(\"data/tags.csv\")\r\n",
    "book_tags = pd.read_csv(\"data/book_tags.csv\")"
   ],
   "outputs": [],
   "metadata": {}
  },
  {
   "cell_type": "markdown",
   "source": [
    "## Réduire le nombre de tags par livre\r\n",
    "La liste des tags est extrèmement longue et difficile à nettoyer (il y a de l'Arabe, du Russe, des mots avec des \"-\" pour les sous-catégories...). Et le tableau d'association book_tags comporte 100 000 lignes. Notre but ici est de diminuer ce nombre, en prenant seulement les tags les plus nombreux et les plus significatifs."
   ],
   "metadata": {}
  },
  {
   "cell_type": "code",
   "execution_count": 38,
   "source": [
    "book_tags = pd.read_csv(\"data/book_tags.csv\")\r\n",
    "\r\n",
    "# On garde seulement les tags que plus de 110 personnes ont mis à un livre\r\n",
    "book_tags_trimmed = book_tags[book_tags[\"count\"]>=110]\r\n",
    "\r\n",
    "# On crée la liste des tags à supprimer car inutile pour Content-Based Filtering, mais on les gardera pour le Popularity Based\r\n",
    "tag_names_supp = [\r\n",
    "    \"to-read\",\r\n",
    "    \"currently-reading\",\r\n",
    "    \"favorites\",\r\n",
    "    \"favorite\",\r\n",
    "    \"books-i-own\",\r\n",
    "    \"owned\",\r\n",
    "    \"owned-books\",\r\n",
    "    \"to-buy\",\r\n",
    "    \"favourites\",\r\n",
    "    \"my-books\",\r\n",
    "    \"i-own\",\r\n",
    "    \"re-read\",\r\n",
    "    \"all-time-favorites\",\r\n",
    "    \"favorite-books\",\r\n",
    "    \"read-in-2008\",\r\n",
    "    \"read-in-2009\",\r\n",
    "    \"read-in-2010\",\r\n",
    "    \"read-in-2011\",\r\n",
    "    \"read-in-2012\",\r\n",
    "    \"read-in-2013\",\r\n",
    "    \"read-in-2014\",\r\n",
    "    \"read-in-2015\",\r\n",
    "    \"read-in-2016\",\r\n",
    "    \"read-in-2017\",\r\n",
    "    \"read-2009\",\r\n",
    "    \"read-2010\",\r\n",
    "    \"read-2011\",\r\n",
    "    \"read-2012\",\r\n",
    "    \"read-2013\",\r\n",
    "    \"read-2014\",\r\n",
    "    \"read-2015\",\r\n",
    "    \"read-2016\",\r\n",
    "    \"read-2017\",\r\n",
    "    \"read-2009\",\r\n",
    "    \"read-2010\",\r\n",
    "    \"read-2011\",\r\n",
    "    \"read-2012\",\r\n",
    "    \"read-2013\",\r\n",
    "    \"read-2014\",\r\n",
    "    \"read-2015\",\r\n",
    "    \"read-2016\",\r\n",
    "    \"read-2017\",\r\n",
    "    \"books-read-in-2012\",\r\n",
    "    \"books-read-in-2014\",\r\n",
    "    \"books-read-in-2015\",\r\n",
    "    \"books-read-in-2016\",\r\n",
    "    \"2012-reads\",\r\n",
    "    \"2013-reads\",\r\n",
    "    \"2014-reads\",\r\n",
    "    \"2015-reads\",\r\n",
    "    \"2016-reads\",\r\n",
    "    \"2017-reads\",\r\n",
    "    ]\r\n",
    "\r\n",
    "def get_tag_id(x):\r\n",
    "    # Fonction qui trouve le tag_id en fonction du tag_name\r\n",
    "\r\n",
    "    tag_id = tags.query('tag_name == \"'+x+'\"')['tag_id'].item()\r\n",
    "    return tag_id\r\n",
    "\r\n",
    "def get_tag_name(x):\r\n",
    "    # Fonction qui trouve le tag_name en fonction du tag_id\r\n",
    "\r\n",
    "    tag_name = tags.query('tag_id == '+str(x))['tag_name'].item()\r\n",
    "    return tag_name"
   ],
   "outputs": [],
   "metadata": {}
  },
  {
   "cell_type": "code",
   "execution_count": 39,
   "source": [
    "# On récupère les ids des tags à supprimer\r\n",
    "tag_ids_supp=[]\r\n",
    " \r\n",
    "for tag in tag_names_supp:\r\n",
    "    tag_ids_supp.append(get_tag_id(tag))\r\n",
    "\r\n",
    "# Boucle qui retire des book_tags les tags_ids\r\n",
    "for tag_id in tag_ids_supp:\r\n",
    "    book_tags_trimmed = book_tags_trimmed[book_tags_trimmed[\"tag_id\"]!=int(tag_id)]\r\n",
    "\r\n",
    "print(\"Il reste\",book_tags_trimmed[\"tag_id\"].value_counts().size,\"tags et\", book_tags_trimmed[\"goodreads_book_id\"].value_counts().size, \"livres\")"
   ],
   "outputs": [
    {
     "output_type": "stream",
     "name": "stdout",
     "text": [
      "Il reste 1864 tags et 9496 livres\n"
     ]
    }
   ],
   "metadata": {}
  },
  {
   "cell_type": "code",
   "execution_count": 11,
   "source": [
    "# Les genres qu'il reste\r\n",
    "# vc_tags_ids = pd.DataFrame(book_tags_trimmed[\"tag_id\"].value_counts())\r\n",
    "# vc_tags_ids = vc_tags_ids.reset_index(inplace=False)\r\n",
    "# vc_tags_ids = vc_tags_ids.rename(columns={\"tag_id\":\"count\",\"index\":\"tag_id\"})\r\n",
    "\r\n",
    "# vc_tags_ids[\"tag_name\"]=vc_tags_ids[\"tag_id\"].apply(get_tag_name)\r\n",
    "# vc_tags_ids.to_csv(\"data/value_counts_tags.csv\")\r\n",
    "\r\n",
    "# On garde un csv avec les tags restants, leur id, leur nom et le nombre de fois qu'ils ont été donnés"
   ],
   "outputs": [],
   "metadata": {}
  },
  {
   "cell_type": "markdown",
   "source": [
    "## Création du dataframe qui servira de base pour le CountVectorizer\r\n",
    "Pour calculer la matrice de similarité entre chaque livre, il est nécessaire de créer un tableau ayant autant de lignes que de livre et autant de colonnes que de tags, et qui sera rempli de 0 ou de 1 si un certain livre est marqué d'un certain tag. Pour créer ce tableau, il nous faut utiliser la feature CountVectorizer sur un dataframe dans lequel nous aurons rentré l'id de livre ainsi qu'une chaine de carctère comprenant les ID de tous ses tags, séparés par un espace."
   ],
   "metadata": {}
  },
  {
   "cell_type": "code",
   "execution_count": 40,
   "source": [
    "# Création d'un dataframe dans lequel une ligne correspond à un livre grâce à .unique\r\n",
    "df = pd.DataFrame(list(book_tags_trimmed[\"goodreads_book_id\"].unique()),columns=[\"book\"])\r\n",
    "df[\"bag_of_tags\"]=\" \"\r\n",
    "\r\n",
    "def create_bag(book_id):\r\n",
    "    # Fonction qu, pour un certain livre, crée une string qui contient les ids de tous ses tags\r\n",
    "\r\n",
    "    bag = map(str,book_tags_trimmed[\"tag_id\"][book_tags_trimmed[\"goodreads_book_id\"]==book_id].to_list())\r\n",
    "    bag = \" \".join(bag)\r\n",
    "\r\n",
    "    return bag\r\n",
    "\r\n",
    "df[\"bag_of_tags\"] = df[\"book\"].apply(create_bag)"
   ],
   "outputs": [],
   "metadata": {}
  },
  {
   "cell_type": "code",
   "execution_count": 41,
   "source": [
    "df.head(5)"
   ],
   "outputs": [
    {
     "output_type": "execute_result",
     "data": {
      "text/html": [
       "<div>\n",
       "<style scoped>\n",
       "    .dataframe tbody tr th:only-of-type {\n",
       "        vertical-align: middle;\n",
       "    }\n",
       "\n",
       "    .dataframe tbody tr th {\n",
       "        vertical-align: top;\n",
       "    }\n",
       "\n",
       "    .dataframe thead th {\n",
       "        text-align: right;\n",
       "    }\n",
       "</style>\n",
       "<table border=\"1\" class=\"dataframe\">\n",
       "  <thead>\n",
       "    <tr style=\"text-align: right;\">\n",
       "      <th></th>\n",
       "      <th>book</th>\n",
       "      <th>bag_of_tags</th>\n",
       "    </tr>\n",
       "  </thead>\n",
       "  <tbody>\n",
       "    <tr>\n",
       "      <th>0</th>\n",
       "      <td>1</td>\n",
       "      <td>11305 33114 11743 14017 32989 27199 18886 6953...</td>\n",
       "    </tr>\n",
       "    <tr>\n",
       "      <th>1</th>\n",
       "      <td>2</td>\n",
       "      <td>11305 6857 6888 9221 11743 33114 3389 22034 17...</td>\n",
       "    </tr>\n",
       "    <tr>\n",
       "      <th>2</th>\n",
       "      <td>3</td>\n",
       "      <td>11305 33114 11743 14017 32989 27199 18886 6953...</td>\n",
       "    </tr>\n",
       "    <tr>\n",
       "      <th>3</th>\n",
       "      <td>5</td>\n",
       "      <td>11305 33114 11743 14017 32989 27199 18886 6953...</td>\n",
       "    </tr>\n",
       "    <tr>\n",
       "      <th>4</th>\n",
       "      <td>6</td>\n",
       "      <td>11305 33114 11743 14017 32989 27199 6953 1691 ...</td>\n",
       "    </tr>\n",
       "  </tbody>\n",
       "</table>\n",
       "</div>"
      ],
      "text/plain": [
       "   book                                        bag_of_tags\n",
       "0     1  11305 33114 11743 14017 32989 27199 18886 6953...\n",
       "1     2  11305 6857 6888 9221 11743 33114 3389 22034 17...\n",
       "2     3  11305 33114 11743 14017 32989 27199 18886 6953...\n",
       "3     5  11305 33114 11743 14017 32989 27199 18886 6953...\n",
       "4     6  11305 33114 11743 14017 32989 27199 6953 1691 ..."
      ]
     },
     "metadata": {},
     "execution_count": 41
    }
   ],
   "metadata": {}
  },
  {
   "cell_type": "markdown",
   "source": [
    "## CountVectorizer et Similarité Cosinus\r\n",
    "Avec le dataframe créé, on peut utiliser CountVectorizer pour créer la matrice de type OneHotEncoder qui donne les tags (en colonnes) pour chaque livre (en lignes). On appelle ensuite la fonction cosine_similarity pour calculer la similarité entre les vecteurs ( = livres) en fonction de leur coordonnées ( = tag ou non, 1 ou 0)"
   ],
   "metadata": {}
  },
  {
   "cell_type": "code",
   "execution_count": 47,
   "source": [
    "from sklearn.metrics.pairwise import cosine_similarity\r\n",
    "from sklearn.feature_extraction.text import CountVectorizer\r\n",
    "\r\n",
    "# A partir du bag of tags on peut utiliser countvectorizer pour créer la matrice qui nous servira a calculcer la similarité entre chaque livre\r\n",
    "count = CountVectorizer()\r\n",
    "count_matrice = count.fit_transform(df['bag_of_tags'])\r\n",
    "\r\n",
    "print(count_matrice.shape)\r\n",
    "# On vérifie que l'on a bien 9496 lignes (nb de livres) et 1864 colonnes (nb de tags possibles)\r\n",
    "\r\n",
    "# Création de la matrice de similarité cosinus (score entre 0 et 1) entre chaque livre\r\n",
    "cos_sim = cosine_similarity(count_matrice, count_matrice)"
   ],
   "outputs": [
    {
     "output_type": "stream",
     "name": "stdout",
     "text": [
      "(9496, 1864)\n"
     ]
    }
   ],
   "metadata": {}
  },
  {
   "cell_type": "markdown",
   "source": [
    "## Fonction recommandation\r\n",
    "Cette fonction recommandation Content Based prend en argument le titre d'un livre et ressort la liste de 10 livres qui lui sont le plus similaire."
   ],
   "metadata": {}
  },
  {
   "cell_type": "code",
   "execution_count": 34,
   "source": [
    "books_title = books[[\"goodreads_book_id\",\"original_title\"]]\r\n",
    "books_title.head(5)"
   ],
   "outputs": [
    {
     "output_type": "execute_result",
     "data": {
      "text/html": [
       "<div>\n",
       "<style scoped>\n",
       "    .dataframe tbody tr th:only-of-type {\n",
       "        vertical-align: middle;\n",
       "    }\n",
       "\n",
       "    .dataframe tbody tr th {\n",
       "        vertical-align: top;\n",
       "    }\n",
       "\n",
       "    .dataframe thead th {\n",
       "        text-align: right;\n",
       "    }\n",
       "</style>\n",
       "<table border=\"1\" class=\"dataframe\">\n",
       "  <thead>\n",
       "    <tr style=\"text-align: right;\">\n",
       "      <th></th>\n",
       "      <th>goodreads_book_id</th>\n",
       "      <th>original_title</th>\n",
       "    </tr>\n",
       "  </thead>\n",
       "  <tbody>\n",
       "    <tr>\n",
       "      <th>0</th>\n",
       "      <td>2767052</td>\n",
       "      <td>The Hunger Games</td>\n",
       "    </tr>\n",
       "    <tr>\n",
       "      <th>1</th>\n",
       "      <td>3</td>\n",
       "      <td>Harry Potter and the Philosopher's Stone</td>\n",
       "    </tr>\n",
       "    <tr>\n",
       "      <th>2</th>\n",
       "      <td>41865</td>\n",
       "      <td>Twilight</td>\n",
       "    </tr>\n",
       "    <tr>\n",
       "      <th>3</th>\n",
       "      <td>2657</td>\n",
       "      <td>To Kill a Mockingbird</td>\n",
       "    </tr>\n",
       "    <tr>\n",
       "      <th>4</th>\n",
       "      <td>4671</td>\n",
       "      <td>The Great Gatsby</td>\n",
       "    </tr>\n",
       "  </tbody>\n",
       "</table>\n",
       "</div>"
      ],
      "text/plain": [
       "   goodreads_book_id                            original_title\n",
       "0            2767052                          The Hunger Games\n",
       "1                  3  Harry Potter and the Philosopher's Stone\n",
       "2              41865                                  Twilight\n",
       "3               2657                     To Kill a Mockingbird\n",
       "4               4671                          The Great Gatsby"
      ]
     },
     "metadata": {},
     "execution_count": 34
    }
   ],
   "metadata": {}
  },
  {
   "cell_type": "code",
   "execution_count": 48,
   "source": [
    "def get_book_id(title): \r\n",
    "    # Récupère l'ID du livre en fonction de son titre\r\n",
    "    return books_title[\"goodreads_book_id\"][books_title[\"original_title\"]==title].item()\r\n",
    "\r\n",
    "def get_book_title(goodreads_id):\r\n",
    "    # Récupère le titre du livre en fonction de son id\r\n",
    "    return books_title[\"original_title\"][books_title[\"goodreads_book_id\"]==goodreads_id].item()\r\n",
    "\r\n",
    "def recommendations(title, cos_sim = cos_sim):\r\n",
    "    \"\"\"\r\n",
    "    Fonction recommandation :\r\n",
    "    Prend en entrée le title d'un livre et la matrice de similarité.\r\n",
    "    Trouve l'id du livre\r\n",
    "    Cherche dans la matrice les autres livres similaires\r\n",
    "    \"\"\"\r\n",
    "    \r\n",
    "    # Initialise la liste \r\n",
    "    recommended_books_ids = []\r\n",
    "\r\n",
    "    # ID du livre\r\n",
    "    book_id = get_book_id(title)\r\n",
    "    \r\n",
    "    # Index du livre dans la matrice\r\n",
    "    idx = df[df[\"book\"]==book_id].index[0]\r\n",
    "\r\n",
    "    # Création de la série qui comprend la similiraté de notre livre et tous les autres (correspond à sa colonne de la matrice cos_sim)\r\n",
    "    score_series = pd.Series(cos_sim[idx]).sort_values(ascending = False)\r\n",
    "\r\n",
    "    # On récupère les 10 premiers indices correspondants (plus grandes similarités)\r\n",
    "    top_10_indexes = list(score_series.iloc[1:11].index)\r\n",
    "    \r\n",
    "    # populating the list with the titles of the best 10 matching movies\r\n",
    "    for i in top_10_indexes:\r\n",
    "        recommended_books_ids.append(list(df.index)[i])\r\n",
    "    \r\n",
    "    recommended_books = list(map(lambda x: df[\"book\"][x],recommended_books_ids))\r\n",
    "    recommended_books = list(map(get_book_title, recommended_books))\r\n",
    "\r\n",
    "    return recommended_books"
   ],
   "outputs": [],
   "metadata": {}
  },
  {
   "cell_type": "code",
   "execution_count": 49,
   "source": [
    "recommendations(\"The Da Vinci Code\")"
   ],
   "outputs": [
    {
     "output_type": "execute_result",
     "data": {
      "text/plain": [
       "['Angels & Demons ',\n",
       " 'The Lost Symbol',\n",
       " 'Män som hatar kvinnor',\n",
       " 'Inferno',\n",
       " 'Luftslottet som sprängdes',\n",
       " 'Flickan som lekte med elden',\n",
       " 'The Lovely Bones',\n",
       " 'La sombra del viento',\n",
       " 'Ten Little Niggers',\n",
       " 'The Thirteenth Tale']"
      ]
     },
     "metadata": {},
     "execution_count": 49
    }
   ],
   "metadata": {}
  }
 ],
 "metadata": {
  "orig_nbformat": 4,
  "language_info": {
   "name": "python",
   "version": "3.9.7",
   "mimetype": "text/x-python",
   "codemirror_mode": {
    "name": "ipython",
    "version": 3
   },
   "pygments_lexer": "ipython3",
   "nbconvert_exporter": "python",
   "file_extension": ".py"
  },
  "kernelspec": {
   "name": "python3",
   "display_name": "Python 3.9.7 64-bit ('venv': venv)"
  },
  "interpreter": {
   "hash": "98923f8a3a6b3c2adb53ebdcc45c639471097e77bc1aad95bdad0a6759d292a2"
  }
 },
 "nbformat": 4,
 "nbformat_minor": 2
}